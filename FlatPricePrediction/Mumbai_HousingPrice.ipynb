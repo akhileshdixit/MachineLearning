#### Jupyter file

{
 "cells": [
  {
   "cell_type": "code",
   "execution_count": 1,
   "metadata": {
    "collapsed": true
   },
   "outputs": [],
   "source": [
    "import pandas as pd\n",
    "import numpy as np\n",
    "\n",
    "from pandas.plotting import scatter_matrix\n",
    "from sklearn.model_selection import train_test_split\n",
    "from sklearn.linear_model import LinearRegression\n",
    "from sklearn.metrics.regression import mean_squared_error\n",
    "\n",
    "import seaborn as sns\n",
    "import matplotlib.pyplot as plt\n",
    "\n",
    "%matplotlib inline\n",
    "sns.set(color_codes=True)"
   ]
  },
  {
   "cell_type": "code",
   "execution_count": 4,
   "metadata": {},
   "outputs": [],
   "source": [
    "mumbai_data=pd.read_csv('Mumbai_Housing.csv')"
   ]
  },
  {
   "cell_type": "code",
   "execution_count": 5,
   "metadata": {},
   "outputs": [
    {
     "data": {
      "text/html": [
       "<div>\n",
       "<style>\n",
       "    .dataframe thead tr:only-child th {\n",
       "        text-align: right;\n",
       "    }\n",
       "\n",
       "    .dataframe thead th {\n",
       "        text-align: left;\n",
       "    }\n",
       "\n",
       "    .dataframe tbody tr th {\n",
       "        vertical-align: top;\n",
       "    }\n",
       "</style>\n",
       "<table border=\"1\" class=\"dataframe\">\n",
       "  <thead>\n",
       "    <tr style=\"text-align: right;\">\n",
       "      <th></th>\n",
       "      <th>CrimeRate</th>\n",
       "      <th>PropResidential</th>\n",
       "      <th>PropBusiness</th>\n",
       "      <th>MasterDrain</th>\n",
       "      <th>NiticOxide</th>\n",
       "      <th>AvgRooms</th>\n",
       "      <th>Before1940</th>\n",
       "      <th>DistanceFromBusinessCenter</th>\n",
       "      <th>AccessibilityToHighway</th>\n",
       "      <th>Tax</th>\n",
       "      <th>TeacherStudentRatio</th>\n",
       "      <th>BaseCorruptionRate</th>\n",
       "      <th>BelowMiddleClass</th>\n",
       "      <th>PriceCrore</th>\n",
       "    </tr>\n",
       "  </thead>\n",
       "  <tbody>\n",
       "    <tr>\n",
       "      <th>0</th>\n",
       "      <td>0.00632</td>\n",
       "      <td>18.0</td>\n",
       "      <td>2.31</td>\n",
       "      <td>0</td>\n",
       "      <td>0.538</td>\n",
       "      <td>6.575</td>\n",
       "      <td>65.2</td>\n",
       "      <td>4.0900</td>\n",
       "      <td>1</td>\n",
       "      <td>296</td>\n",
       "      <td>15.3</td>\n",
       "      <td>396.90</td>\n",
       "      <td>4.98</td>\n",
       "      <td>1.9600</td>\n",
       "    </tr>\n",
       "    <tr>\n",
       "      <th>1</th>\n",
       "      <td>0.02731</td>\n",
       "      <td>0.0</td>\n",
       "      <td>7.07</td>\n",
       "      <td>0</td>\n",
       "      <td>0.469</td>\n",
       "      <td>6.421</td>\n",
       "      <td>78.9</td>\n",
       "      <td>4.9671</td>\n",
       "      <td>2</td>\n",
       "      <td>242</td>\n",
       "      <td>17.8</td>\n",
       "      <td>396.90</td>\n",
       "      <td>9.14</td>\n",
       "      <td>1.4040</td>\n",
       "    </tr>\n",
       "    <tr>\n",
       "      <th>2</th>\n",
       "      <td>0.02729</td>\n",
       "      <td>0.0</td>\n",
       "      <td>7.07</td>\n",
       "      <td>0</td>\n",
       "      <td>0.469</td>\n",
       "      <td>7.185</td>\n",
       "      <td>61.1</td>\n",
       "      <td>4.9671</td>\n",
       "      <td>2</td>\n",
       "      <td>242</td>\n",
       "      <td>17.8</td>\n",
       "      <td>392.83</td>\n",
       "      <td>4.03</td>\n",
       "      <td>2.2555</td>\n",
       "    </tr>\n",
       "    <tr>\n",
       "      <th>3</th>\n",
       "      <td>0.03237</td>\n",
       "      <td>0.0</td>\n",
       "      <td>2.18</td>\n",
       "      <td>0</td>\n",
       "      <td>0.458</td>\n",
       "      <td>6.998</td>\n",
       "      <td>45.8</td>\n",
       "      <td>6.0622</td>\n",
       "      <td>3</td>\n",
       "      <td>222</td>\n",
       "      <td>18.7</td>\n",
       "      <td>394.63</td>\n",
       "      <td>2.94</td>\n",
       "      <td>2.1710</td>\n",
       "    </tr>\n",
       "    <tr>\n",
       "      <th>4</th>\n",
       "      <td>0.06905</td>\n",
       "      <td>0.0</td>\n",
       "      <td>2.18</td>\n",
       "      <td>0</td>\n",
       "      <td>0.458</td>\n",
       "      <td>7.147</td>\n",
       "      <td>54.2</td>\n",
       "      <td>6.0622</td>\n",
       "      <td>3</td>\n",
       "      <td>222</td>\n",
       "      <td>18.7</td>\n",
       "      <td>396.90</td>\n",
       "      <td>5.33</td>\n",
       "      <td>2.3530</td>\n",
       "    </tr>\n",
       "  </tbody>\n",
       "</table>\n",
       "</div>"
      ],
      "text/plain": [
       "   CrimeRate  PropResidential  PropBusiness  MasterDrain  NiticOxide  \\\n",
       "0    0.00632             18.0          2.31            0       0.538   \n",
       "1    0.02731              0.0          7.07            0       0.469   \n",
       "2    0.02729              0.0          7.07            0       0.469   \n",
       "3    0.03237              0.0          2.18            0       0.458   \n",
       "4    0.06905              0.0          2.18            0       0.458   \n",
       "\n",
       "   AvgRooms  Before1940  DistanceFromBusinessCenter  AccessibilityToHighway  \\\n",
       "0     6.575        65.2                      4.0900                       1   \n",
       "1     6.421        78.9                      4.9671                       2   \n",
       "2     7.185        61.1                      4.9671                       2   \n",
       "3     6.998        45.8                      6.0622                       3   \n",
       "4     7.147        54.2                      6.0622                       3   \n",
       "\n",
       "   Tax  TeacherStudentRatio  BaseCorruptionRate  BelowMiddleClass  PriceCrore  \n",
       "0  296                 15.3              396.90              4.98      1.9600  \n",
       "1  242                 17.8              396.90              9.14      1.4040  \n",
       "2  242                 17.8              392.83              4.03      2.2555  \n",
       "3  222                 18.7              394.63              2.94      2.1710  \n",
       "4  222                 18.7              396.90              5.33      2.3530  "
      ]
     },
     "execution_count": 5,
     "metadata": {},
     "output_type": "execute_result"
    }
   ],
   "source": [
    "mumbai_data.head()"
   ]
  },
  {
   "cell_type": "code",
   "execution_count": 6,
   "metadata": {},
   "outputs": [
    {
     "data": {
      "text/html": [
       "<div>\n",
       "<style>\n",
       "    .dataframe thead tr:only-child th {\n",
       "        text-align: right;\n",
       "    }\n",
       "\n",
       "    .dataframe thead th {\n",
       "        text-align: left;\n",
       "    }\n",
       "\n",
       "    .dataframe tbody tr th {\n",
       "        vertical-align: top;\n",
       "    }\n",
       "</style>\n",
       "<table border=\"1\" class=\"dataframe\">\n",
       "  <thead>\n",
       "    <tr style=\"text-align: right;\">\n",
       "      <th></th>\n",
       "      <th>CrimeRate</th>\n",
       "      <th>PropResidential</th>\n",
       "      <th>PropBusiness</th>\n",
       "      <th>MasterDrain</th>\n",
       "      <th>NiticOxide</th>\n",
       "      <th>AvgRooms</th>\n",
       "      <th>Before1940</th>\n",
       "      <th>DistanceFromBusinessCenter</th>\n",
       "      <th>AccessibilityToHighway</th>\n",
       "      <th>Tax</th>\n",
       "      <th>TeacherStudentRatio</th>\n",
       "      <th>BaseCorruptionRate</th>\n",
       "      <th>BelowMiddleClass</th>\n",
       "      <th>PriceCrore</th>\n",
       "    </tr>\n",
       "  </thead>\n",
       "  <tbody>\n",
       "    <tr>\n",
       "      <th>count</th>\n",
       "      <td>22.000000</td>\n",
       "      <td>22.000000</td>\n",
       "      <td>22.000000</td>\n",
       "      <td>22.0</td>\n",
       "      <td>22.000000</td>\n",
       "      <td>22.000000</td>\n",
       "      <td>22.000000</td>\n",
       "      <td>22.000000</td>\n",
       "      <td>22.000000</td>\n",
       "      <td>22.000000</td>\n",
       "      <td>22.000000</td>\n",
       "      <td>22.000000</td>\n",
       "      <td>22.000000</td>\n",
       "      <td>22.000000</td>\n",
       "    </tr>\n",
       "    <tr>\n",
       "      <th>mean</th>\n",
       "      <td>0.391274</td>\n",
       "      <td>4.795455</td>\n",
       "      <td>6.876364</td>\n",
       "      <td>0.0</td>\n",
       "      <td>0.516364</td>\n",
       "      <td>6.153273</td>\n",
       "      <td>69.813636</td>\n",
       "      <td>5.102182</td>\n",
       "      <td>3.863636</td>\n",
       "      <td>290.272727</td>\n",
       "      <td>18.290909</td>\n",
       "      <td>386.964545</td>\n",
       "      <td>12.078636</td>\n",
       "      <td>1.466795</td>\n",
       "    </tr>\n",
       "    <tr>\n",
       "      <th>std</th>\n",
       "      <td>0.390516</td>\n",
       "      <td>6.589420</td>\n",
       "      <td>2.270522</td>\n",
       "      <td>0.0</td>\n",
       "      <td>0.030702</td>\n",
       "      <td>0.478713</td>\n",
       "      <td>20.969735</td>\n",
       "      <td>0.955596</td>\n",
       "      <td>1.125271</td>\n",
       "      <td>33.948395</td>\n",
       "      <td>2.608212</td>\n",
       "      <td>22.606228</td>\n",
       "      <td>6.656212</td>\n",
       "      <td>0.415871</td>\n",
       "    </tr>\n",
       "    <tr>\n",
       "      <th>min</th>\n",
       "      <td>0.006320</td>\n",
       "      <td>0.000000</td>\n",
       "      <td>2.180000</td>\n",
       "      <td>0.0</td>\n",
       "      <td>0.458000</td>\n",
       "      <td>5.456000</td>\n",
       "      <td>29.300000</td>\n",
       "      <td>3.796500</td>\n",
       "      <td>1.000000</td>\n",
       "      <td>222.000000</td>\n",
       "      <td>15.200000</td>\n",
       "      <td>288.990000</td>\n",
       "      <td>2.940000</td>\n",
       "      <td>0.884000</td>\n",
       "    </tr>\n",
       "    <tr>\n",
       "      <th>25%</th>\n",
       "      <td>0.073860</td>\n",
       "      <td>0.000000</td>\n",
       "      <td>7.255000</td>\n",
       "      <td>0.0</td>\n",
       "      <td>0.524000</td>\n",
       "      <td>5.900500</td>\n",
       "      <td>57.050000</td>\n",
       "      <td>4.308900</td>\n",
       "      <td>3.250000</td>\n",
       "      <td>298.750000</td>\n",
       "      <td>15.200000</td>\n",
       "      <td>386.775000</td>\n",
       "      <td>7.000000</td>\n",
       "      <td>1.194375</td>\n",
       "    </tr>\n",
       "    <tr>\n",
       "      <th>50%</th>\n",
       "      <td>0.190640</td>\n",
       "      <td>0.000000</td>\n",
       "      <td>7.870000</td>\n",
       "      <td>0.0</td>\n",
       "      <td>0.524000</td>\n",
       "      <td>6.006500</td>\n",
       "      <td>68.050000</td>\n",
       "      <td>4.967100</td>\n",
       "      <td>4.000000</td>\n",
       "      <td>307.000000</td>\n",
       "      <td>18.700000</td>\n",
       "      <td>392.680000</td>\n",
       "      <td>11.485000</td>\n",
       "      <td>1.319500</td>\n",
       "    </tr>\n",
       "    <tr>\n",
       "      <th>75%</th>\n",
       "      <td>0.703840</td>\n",
       "      <td>12.500000</td>\n",
       "      <td>8.140000</td>\n",
       "      <td>0.0</td>\n",
       "      <td>0.538000</td>\n",
       "      <td>6.410000</td>\n",
       "      <td>85.550000</td>\n",
       "      <td>6.062200</td>\n",
       "      <td>5.000000</td>\n",
       "      <td>311.000000</td>\n",
       "      <td>21.000000</td>\n",
       "      <td>396.580000</td>\n",
       "      <td>15.450000</td>\n",
       "      <td>1.696500</td>\n",
       "    </tr>\n",
       "    <tr>\n",
       "      <th>max</th>\n",
       "      <td>1.251790</td>\n",
       "      <td>18.000000</td>\n",
       "      <td>8.140000</td>\n",
       "      <td>0.0</td>\n",
       "      <td>0.538000</td>\n",
       "      <td>7.185000</td>\n",
       "      <td>100.000000</td>\n",
       "      <td>6.592100</td>\n",
       "      <td>5.000000</td>\n",
       "      <td>311.000000</td>\n",
       "      <td>21.000000</td>\n",
       "      <td>396.900000</td>\n",
       "      <td>29.930000</td>\n",
       "      <td>2.353000</td>\n",
       "    </tr>\n",
       "  </tbody>\n",
       "</table>\n",
       "</div>"
      ],
      "text/plain": [
       "       CrimeRate  PropResidential  PropBusiness  MasterDrain  NiticOxide  \\\n",
       "count  22.000000        22.000000     22.000000         22.0   22.000000   \n",
       "mean    0.391274         4.795455      6.876364          0.0    0.516364   \n",
       "std     0.390516         6.589420      2.270522          0.0    0.030702   \n",
       "min     0.006320         0.000000      2.180000          0.0    0.458000   \n",
       "25%     0.073860         0.000000      7.255000          0.0    0.524000   \n",
       "50%     0.190640         0.000000      7.870000          0.0    0.524000   \n",
       "75%     0.703840        12.500000      8.140000          0.0    0.538000   \n",
       "max     1.251790        18.000000      8.140000          0.0    0.538000   \n",
       "\n",
       "        AvgRooms  Before1940  DistanceFromBusinessCenter  \\\n",
       "count  22.000000   22.000000                   22.000000   \n",
       "mean    6.153273   69.813636                    5.102182   \n",
       "std     0.478713   20.969735                    0.955596   \n",
       "min     5.456000   29.300000                    3.796500   \n",
       "25%     5.900500   57.050000                    4.308900   \n",
       "50%     6.006500   68.050000                    4.967100   \n",
       "75%     6.410000   85.550000                    6.062200   \n",
       "max     7.185000  100.000000                    6.592100   \n",
       "\n",
       "       AccessibilityToHighway         Tax  TeacherStudentRatio  \\\n",
       "count               22.000000   22.000000            22.000000   \n",
       "mean                 3.863636  290.272727            18.290909   \n",
       "std                  1.125271   33.948395             2.608212   \n",
       "min                  1.000000  222.000000            15.200000   \n",
       "25%                  3.250000  298.750000            15.200000   \n",
       "50%                  4.000000  307.000000            18.700000   \n",
       "75%                  5.000000  311.000000            21.000000   \n",
       "max                  5.000000  311.000000            21.000000   \n",
       "\n",
       "       BaseCorruptionRate  BelowMiddleClass  PriceCrore  \n",
       "count           22.000000         22.000000   22.000000  \n",
       "mean           386.964545         12.078636    1.466795  \n",
       "std             22.606228          6.656212    0.415871  \n",
       "min            288.990000          2.940000    0.884000  \n",
       "25%            386.775000          7.000000    1.194375  \n",
       "50%            392.680000         11.485000    1.319500  \n",
       "75%            396.580000         15.450000    1.696500  \n",
       "max            396.900000         29.930000    2.353000  "
      ]
     },
     "execution_count": 6,
     "metadata": {},
     "output_type": "execute_result"
    }
   ],
   "source": [
    "mumbai_data.describe()"
   ]
  },
  {
   "cell_type": "code",
   "execution_count": 7,
   "metadata": {},
   "outputs": [
    {
     "data": {
      "text/plain": [
       "<matplotlib.axes._subplots.AxesSubplot at 0x8e71310>"
      ]
     },
     "execution_count": 7,
     "metadata": {},
     "output_type": "execute_result"
    },
    {
     "data": {
      "image/png": "[encoded data removed]",
      "text/plain": [
       "<matplotlib.figure.Figure at 0x8e71f90>"
      ]
     },
     "metadata": {},
     "output_type": "display_data"
    }
   ],
   "source": [
    "sns.boxplot(mumbai_data.PriceCrore)"
   ]
  },
  {
   "cell_type": "code",
   "execution_count": 8,
   "metadata": {},
   "outputs": [
    {
     "data": {
      "text/plain": [
       "<matplotlib.axes._subplots.AxesSubplot at 0xa81b850>"
      ]
     },
     "execution_count": 8,
     "metadata": {},
     "output_type": "execute_result"
    },
    {
     "data": {
      "image/png": "[encoded data removed]",
      "text/plain": [
       "<matplotlib.figure.Figure at 0xa81bef0>"
      ]
     },
     "metadata": {},
     "output_type": "display_data"
    }
   ],
   "source": [
    "sns.violinplot(mumbai_data.PriceCrore)"
   ]
  },
  {
   "cell_type": "code",
   "execution_count": 9,
   "metadata": {},
   "outputs": [
    {
     "data": {
      "text/plain": [
       "<matplotlib.axes._subplots.AxesSubplot at 0xa8802b0>"
      ]
     },
     "execution_count": 9,
     "metadata": {},
     "output_type": "execute_result"
    },
    {
     "data": {
      "image/png": "[encoded data removed]",
      "text/plain": [
       "<matplotlib.figure.Figure at 0xa880e30>"
      ]
     },
     "metadata": {},
     "output_type": "display_data"
    }
   ],
   "source": [
    "sns.distplot(mumbai_data.PriceCrore)"
   ]
  },
  {
   "cell_type": "code",
   "execution_count": 14,
   "metadata": {},
   "outputs": [
    {
     "data": {
      "image/png": "[encoded data removed]",
      "text/plain": [
       "<matplotlib.figure.Figure at 0xbf60950>"
      ]
     },
     "metadata": {},
     "output_type": "display_data"
    }
   ],
   "source": [
    "#uniform_data = sns.load_dataset(mumbai_data.PriceCrore)\n",
    "#sns.heatmap(uniform_data)\n",
    "#scatter_matrix(mumbai_data)\n",
    "#plt.show()\n",
    "\n",
    "mumbai_data.hist()\n",
    "plt.show()"
   ]
  },
  {
   "cell_type": "code",
   "execution_count": 33,
   "metadata": {},
   "outputs": [
    {
     "data": {
      "text/plain": [
       "LinearRegression(copy_X=True, fit_intercept=True, n_jobs=1, normalize=False)"
      ]
     },
     "execution_count": 33,
     "metadata": {},
     "output_type": "execute_result"
    }
   ],
   "source": [
    "# Prepare the data\n",
    "X = mumbai_data.drop('PriceCrore', axis=1)\n",
    "y = mumbai_data.PriceCrore\n",
    "\n",
    "X_train, X_test, y_train, y_test = train_test_split(X, y)\n",
    "\n",
    "#### Train\n",
    "# Initialize the model\n",
    "lr = LinearRegression()\n",
    "# fit the model\n",
    "lr.fit(X_train, y_train)"
   ]
  },
  {
   "cell_type": "code",
   "execution_count": 34,
   "metadata": {},
   "outputs": [
    {
     "name": "stdout",
     "output_type": "stream",
     "text": [
      "Train rmse: 0.08618820296169209\n"
     ]
    }
   ],
   "source": [
    "# Train Evalution\n",
    "\n",
    "train_pred = lr.predict(X_train)\n",
    "\n",
    "# Mean squared error\n",
    "mse = mean_squared_error(y_train, train_pred)\n",
    "\n",
    "# Root mean suared error\n",
    "print('Train rmse: {}'.format(np.sqrt(mse)))"
   ]
  },
  {
   "cell_type": "code",
   "execution_count": 37,
   "metadata": {},
   "outputs": [
    {
     "name": "stdout",
     "output_type": "stream",
     "text": [
      "Train rmse: 0.49059550107416\n"
     ]
    }
   ],
   "source": [
    "#### Test\n",
    "\n",
    "test_pred = lr.predict(X_test)\n",
    "\n",
    "#### Test Evalution\n",
    "mse = mean_squared_error(y_test, test_pred)\n",
    "\n",
    "# Root mean squared error\n",
    "print('Train rmse: {}'.format(np.sqrt(mse)))"
   ]
  }
 ],
 "metadata": {
  "kernelspec": {
   "display_name": "Python 3",
   "language": "python",
   "name": "python3"
  },
  "language_info": {
   "codemirror_mode": {
    "name": "ipython",
    "version": 3
   },
   "file_extension": ".py",
   "mimetype": "text/x-python",
   "name": "python",
   "nbconvert_exporter": "python",
   "pygments_lexer": "ipython3",
   "version": "3.6.2"
  }
 },
 "nbformat": 4,
 "nbformat_minor": 2
}
